{
 "cells": [
  {
   "cell_type": "code",
   "execution_count": 1,
   "metadata": {},
   "outputs": [],
   "source": [
    "from tensorflow.keras.preprocessing.text import one_hot"
   ]
  },
  {
   "cell_type": "code",
   "execution_count": 22,
   "metadata": {},
   "outputs": [],
   "source": [
    "### sentences\n",
    "sent=[  'the glass of milk',\n",
    "     'the glass of juice',\n",
    "     'the cup of tea',\n",
    "    'I am a good boy',\n",
    "     'I am a good developer',\n",
    "     'understand the meaning of words',\n",
    "     'your videos are good',]"
   ]
  },
  {
   "cell_type": "code",
   "execution_count": 23,
   "metadata": {},
   "outputs": [
    {
     "data": {
      "text/plain": [
       "['the glass of milk',\n",
       " 'the glass of juice',\n",
       " 'the cup of tea',\n",
       " 'I am a good boy',\n",
       " 'I am a good developer',\n",
       " 'understand the meaning of words',\n",
       " 'your videos are good']"
      ]
     },
     "execution_count": 23,
     "metadata": {},
     "output_type": "execute_result"
    }
   ],
   "source": [
    "sent"
   ]
  },
  {
   "cell_type": "code",
   "execution_count": 24,
   "metadata": {},
   "outputs": [],
   "source": [
    "## Define the vocabulary size\n",
    "voc_size=10000"
   ]
  },
  {
   "cell_type": "code",
   "execution_count": 25,
   "metadata": {},
   "outputs": [
    {
     "data": {
      "text/plain": [
       "['the glass of milk',\n",
       " 'the glass of juice',\n",
       " 'the cup of tea',\n",
       " 'I am a good boy',\n",
       " 'I am a good developer',\n",
       " 'understand the meaning of words',\n",
       " 'your videos are good']"
      ]
     },
     "execution_count": 25,
     "metadata": {},
     "output_type": "execute_result"
    }
   ],
   "source": [
    "sent"
   ]
  },
  {
   "cell_type": "code",
   "execution_count": 26,
   "metadata": {},
   "outputs": [
    {
     "data": {
      "text/plain": [
       "[[1779, 384, 9989, 4307],\n",
       " [1779, 384, 9989, 6553],\n",
       " [1779, 9798, 9989, 342],\n",
       " [771, 1364, 1680, 8480, 8259],\n",
       " [771, 1364, 1680, 8480, 781],\n",
       " [7050, 1779, 521, 9989, 1179],\n",
       " [7026, 4384, 6826, 8480]]"
      ]
     },
     "execution_count": 26,
     "metadata": {},
     "output_type": "execute_result"
    }
   ],
   "source": [
    "### One Hot Representation\n",
    "one_hot_repr=[one_hot(words,voc_size)for words in sent]\n",
    "one_hot_repr"
   ]
  },
  {
   "cell_type": "code",
   "execution_count": 27,
   "metadata": {},
   "outputs": [],
   "source": [
    "## word Embedding Representation\n",
    "\n",
    "from tensorflow.keras.layers import Embedding\n",
    "#from tensorflow.keras.processing.sequence import pad_sequences\n",
    "from tensorflow.keras.utils import pad_sequences\n",
    "from tensorflow.keras.models import Sequential"
   ]
  },
  {
   "cell_type": "code",
   "execution_count": 28,
   "metadata": {},
   "outputs": [],
   "source": [
    "import numpy as np"
   ]
  },
  {
   "cell_type": "code",
   "execution_count": 29,
   "metadata": {},
   "outputs": [
    {
     "name": "stdout",
     "output_type": "stream",
     "text": [
      "[[   0    0    0    0 1779  384 9989 4307]\n",
      " [   0    0    0    0 1779  384 9989 6553]\n",
      " [   0    0    0    0 1779 9798 9989  342]\n",
      " [   0    0    0  771 1364 1680 8480 8259]\n",
      " [   0    0    0  771 1364 1680 8480  781]\n",
      " [   0    0    0 7050 1779  521 9989 1179]\n",
      " [   0    0    0    0 7026 4384 6826 8480]]\n"
     ]
    }
   ],
   "source": [
    "sent_length=8\n",
    "embedded_docs=pad_sequences(one_hot_repr,padding='pre',maxlen=sent_length)\n",
    "print(embedded_docs)"
   ]
  },
  {
   "cell_type": "code",
   "execution_count": 30,
   "metadata": {},
   "outputs": [],
   "source": [
    "## feature representation\n",
    "dim=10"
   ]
  },
  {
   "cell_type": "code",
   "execution_count": 31,
   "metadata": {},
   "outputs": [],
   "source": [
    "model = Sequential()\n",
    "model.add(Embedding(input_dim=voc_size, output_dim=dim, input_length=sent_length))\n",
    "model.compile(optimizer='adam', loss='mse')\n",
    "model.build(input_shape=(None, sent_length))\n"
   ]
  },
  {
   "cell_type": "code",
   "execution_count": 32,
   "metadata": {},
   "outputs": [
    {
     "data": {
      "text/html": [
       "<pre style=\"white-space:pre;overflow-x:auto;line-height:normal;font-family:Menlo,'DejaVu Sans Mono',consolas,'Courier New',monospace\"><span style=\"font-weight: bold\">Model: \"sequential_6\"</span>\n",
       "</pre>\n"
      ],
      "text/plain": [
       "\u001b[1mModel: \"sequential_6\"\u001b[0m\n"
      ]
     },
     "metadata": {},
     "output_type": "display_data"
    },
    {
     "data": {
      "text/html": [
       "<pre style=\"white-space:pre;overflow-x:auto;line-height:normal;font-family:Menlo,'DejaVu Sans Mono',consolas,'Courier New',monospace\">┏━━━━━━━━━━━━━━━━━━━━━━━━━━━━━━━━━┳━━━━━━━━━━━━━━━━━━━━━━━━┳━━━━━━━━━━━━━━━┓\n",
       "┃<span style=\"font-weight: bold\"> Layer (type)                    </span>┃<span style=\"font-weight: bold\"> Output Shape           </span>┃<span style=\"font-weight: bold\">       Param # </span>┃\n",
       "┡━━━━━━━━━━━━━━━━━━━━━━━━━━━━━━━━━╇━━━━━━━━━━━━━━━━━━━━━━━━╇━━━━━━━━━━━━━━━┩\n",
       "│ embedding_6 (<span style=\"color: #0087ff; text-decoration-color: #0087ff\">Embedding</span>)         │ (<span style=\"color: #00d7ff; text-decoration-color: #00d7ff\">None</span>, <span style=\"color: #00af00; text-decoration-color: #00af00\">8</span>, <span style=\"color: #00af00; text-decoration-color: #00af00\">10</span>)          │       <span style=\"color: #00af00; text-decoration-color: #00af00\">100,000</span> │\n",
       "└─────────────────────────────────┴────────────────────────┴───────────────┘\n",
       "</pre>\n"
      ],
      "text/plain": [
       "┏━━━━━━━━━━━━━━━━━━━━━━━━━━━━━━━━━┳━━━━━━━━━━━━━━━━━━━━━━━━┳━━━━━━━━━━━━━━━┓\n",
       "┃\u001b[1m \u001b[0m\u001b[1mLayer (type)                   \u001b[0m\u001b[1m \u001b[0m┃\u001b[1m \u001b[0m\u001b[1mOutput Shape          \u001b[0m\u001b[1m \u001b[0m┃\u001b[1m \u001b[0m\u001b[1m      Param #\u001b[0m\u001b[1m \u001b[0m┃\n",
       "┡━━━━━━━━━━━━━━━━━━━━━━━━━━━━━━━━━╇━━━━━━━━━━━━━━━━━━━━━━━━╇━━━━━━━━━━━━━━━┩\n",
       "│ embedding_6 (\u001b[38;5;33mEmbedding\u001b[0m)         │ (\u001b[38;5;45mNone\u001b[0m, \u001b[38;5;34m8\u001b[0m, \u001b[38;5;34m10\u001b[0m)          │       \u001b[38;5;34m100,000\u001b[0m │\n",
       "└─────────────────────────────────┴────────────────────────┴───────────────┘\n"
      ]
     },
     "metadata": {},
     "output_type": "display_data"
    },
    {
     "data": {
      "text/html": [
       "<pre style=\"white-space:pre;overflow-x:auto;line-height:normal;font-family:Menlo,'DejaVu Sans Mono',consolas,'Courier New',monospace\"><span style=\"font-weight: bold\"> Total params: </span><span style=\"color: #00af00; text-decoration-color: #00af00\">100,000</span> (390.62 KB)\n",
       "</pre>\n"
      ],
      "text/plain": [
       "\u001b[1m Total params: \u001b[0m\u001b[38;5;34m100,000\u001b[0m (390.62 KB)\n"
      ]
     },
     "metadata": {},
     "output_type": "display_data"
    },
    {
     "data": {
      "text/html": [
       "<pre style=\"white-space:pre;overflow-x:auto;line-height:normal;font-family:Menlo,'DejaVu Sans Mono',consolas,'Courier New',monospace\"><span style=\"font-weight: bold\"> Trainable params: </span><span style=\"color: #00af00; text-decoration-color: #00af00\">100,000</span> (390.62 KB)\n",
       "</pre>\n"
      ],
      "text/plain": [
       "\u001b[1m Trainable params: \u001b[0m\u001b[38;5;34m100,000\u001b[0m (390.62 KB)\n"
      ]
     },
     "metadata": {},
     "output_type": "display_data"
    },
    {
     "data": {
      "text/html": [
       "<pre style=\"white-space:pre;overflow-x:auto;line-height:normal;font-family:Menlo,'DejaVu Sans Mono',consolas,'Courier New',monospace\"><span style=\"font-weight: bold\"> Non-trainable params: </span><span style=\"color: #00af00; text-decoration-color: #00af00\">0</span> (0.00 B)\n",
       "</pre>\n"
      ],
      "text/plain": [
       "\u001b[1m Non-trainable params: \u001b[0m\u001b[38;5;34m0\u001b[0m (0.00 B)\n"
      ]
     },
     "metadata": {},
     "output_type": "display_data"
    }
   ],
   "source": [
    "model.summary()"
   ]
  },
  {
   "cell_type": "code",
   "execution_count": 33,
   "metadata": {},
   "outputs": [
    {
     "name": "stdout",
     "output_type": "stream",
     "text": [
      "\u001b[1m1/1\u001b[0m \u001b[32m━━━━━━━━━━━━━━━━━━━━\u001b[0m\u001b[37m\u001b[0m \u001b[1m0s\u001b[0m 254ms/step\n"
     ]
    },
    {
     "data": {
      "text/plain": [
       "array([[[ 1.42061748e-02, -1.45138130e-02,  2.73118280e-02,\n",
       "          2.02215426e-02, -2.05212366e-02,  5.78414649e-04,\n",
       "         -3.72975357e-02, -4.54578996e-02,  2.74007805e-02,\n",
       "         -2.33614575e-02],\n",
       "        [ 1.42061748e-02, -1.45138130e-02,  2.73118280e-02,\n",
       "          2.02215426e-02, -2.05212366e-02,  5.78414649e-04,\n",
       "         -3.72975357e-02, -4.54578996e-02,  2.74007805e-02,\n",
       "         -2.33614575e-02],\n",
       "        [ 1.42061748e-02, -1.45138130e-02,  2.73118280e-02,\n",
       "          2.02215426e-02, -2.05212366e-02,  5.78414649e-04,\n",
       "         -3.72975357e-02, -4.54578996e-02,  2.74007805e-02,\n",
       "         -2.33614575e-02],\n",
       "        [ 1.42061748e-02, -1.45138130e-02,  2.73118280e-02,\n",
       "          2.02215426e-02, -2.05212366e-02,  5.78414649e-04,\n",
       "         -3.72975357e-02, -4.54578996e-02,  2.74007805e-02,\n",
       "         -2.33614575e-02],\n",
       "        [ 3.13760974e-02,  3.56265940e-02,  1.09498575e-03,\n",
       "          1.32749192e-02,  4.31714095e-02, -2.77641546e-02,\n",
       "         -7.19226897e-04, -2.84469016e-02,  7.53495842e-03,\n",
       "          2.35064961e-02],\n",
       "        [ 1.53171308e-02, -6.79900497e-03, -3.47105041e-02,\n",
       "         -6.35756180e-03,  4.86759096e-03,  9.74700600e-03,\n",
       "          3.31583060e-02, -3.09049375e-02, -2.72315387e-02,\n",
       "         -4.23507467e-02],\n",
       "        [ 2.57383622e-02, -3.58112454e-02,  3.03463601e-02,\n",
       "         -1.38213262e-02, -1.32085197e-02,  2.02537663e-02,\n",
       "         -3.57654206e-02,  4.19252254e-02,  4.26189564e-02,\n",
       "          1.70805790e-02],\n",
       "        [ 3.05721425e-02,  2.15118416e-02, -1.31885894e-02,\n",
       "          8.88820738e-03, -8.06928799e-03, -1.87148936e-02,\n",
       "         -4.61344235e-02, -2.49929074e-02, -4.22055386e-02,\n",
       "         -4.37949672e-02]],\n",
       "\n",
       "       [[ 1.42061748e-02, -1.45138130e-02,  2.73118280e-02,\n",
       "          2.02215426e-02, -2.05212366e-02,  5.78414649e-04,\n",
       "         -3.72975357e-02, -4.54578996e-02,  2.74007805e-02,\n",
       "         -2.33614575e-02],\n",
       "        [ 1.42061748e-02, -1.45138130e-02,  2.73118280e-02,\n",
       "          2.02215426e-02, -2.05212366e-02,  5.78414649e-04,\n",
       "         -3.72975357e-02, -4.54578996e-02,  2.74007805e-02,\n",
       "         -2.33614575e-02],\n",
       "        [ 1.42061748e-02, -1.45138130e-02,  2.73118280e-02,\n",
       "          2.02215426e-02, -2.05212366e-02,  5.78414649e-04,\n",
       "         -3.72975357e-02, -4.54578996e-02,  2.74007805e-02,\n",
       "         -2.33614575e-02],\n",
       "        [ 1.42061748e-02, -1.45138130e-02,  2.73118280e-02,\n",
       "          2.02215426e-02, -2.05212366e-02,  5.78414649e-04,\n",
       "         -3.72975357e-02, -4.54578996e-02,  2.74007805e-02,\n",
       "         -2.33614575e-02],\n",
       "        [ 3.13760974e-02,  3.56265940e-02,  1.09498575e-03,\n",
       "          1.32749192e-02,  4.31714095e-02, -2.77641546e-02,\n",
       "         -7.19226897e-04, -2.84469016e-02,  7.53495842e-03,\n",
       "          2.35064961e-02],\n",
       "        [ 1.53171308e-02, -6.79900497e-03, -3.47105041e-02,\n",
       "         -6.35756180e-03,  4.86759096e-03,  9.74700600e-03,\n",
       "          3.31583060e-02, -3.09049375e-02, -2.72315387e-02,\n",
       "         -4.23507467e-02],\n",
       "        [ 2.57383622e-02, -3.58112454e-02,  3.03463601e-02,\n",
       "         -1.38213262e-02, -1.32085197e-02,  2.02537663e-02,\n",
       "         -3.57654206e-02,  4.19252254e-02,  4.26189564e-02,\n",
       "          1.70805790e-02],\n",
       "        [ 7.27272034e-03,  3.50052230e-02, -2.19196212e-02,\n",
       "          3.30003761e-02,  4.22060974e-02,  1.36214606e-02,\n",
       "          2.44177878e-04, -1.22776851e-02, -3.06158196e-02,\n",
       "         -3.01371347e-02]],\n",
       "\n",
       "       [[ 1.42061748e-02, -1.45138130e-02,  2.73118280e-02,\n",
       "          2.02215426e-02, -2.05212366e-02,  5.78414649e-04,\n",
       "         -3.72975357e-02, -4.54578996e-02,  2.74007805e-02,\n",
       "         -2.33614575e-02],\n",
       "        [ 1.42061748e-02, -1.45138130e-02,  2.73118280e-02,\n",
       "          2.02215426e-02, -2.05212366e-02,  5.78414649e-04,\n",
       "         -3.72975357e-02, -4.54578996e-02,  2.74007805e-02,\n",
       "         -2.33614575e-02],\n",
       "        [ 1.42061748e-02, -1.45138130e-02,  2.73118280e-02,\n",
       "          2.02215426e-02, -2.05212366e-02,  5.78414649e-04,\n",
       "         -3.72975357e-02, -4.54578996e-02,  2.74007805e-02,\n",
       "         -2.33614575e-02],\n",
       "        [ 1.42061748e-02, -1.45138130e-02,  2.73118280e-02,\n",
       "          2.02215426e-02, -2.05212366e-02,  5.78414649e-04,\n",
       "         -3.72975357e-02, -4.54578996e-02,  2.74007805e-02,\n",
       "         -2.33614575e-02],\n",
       "        [ 3.13760974e-02,  3.56265940e-02,  1.09498575e-03,\n",
       "          1.32749192e-02,  4.31714095e-02, -2.77641546e-02,\n",
       "         -7.19226897e-04, -2.84469016e-02,  7.53495842e-03,\n",
       "          2.35064961e-02],\n",
       "        [ 3.08578052e-02, -3.69896181e-02, -6.67615980e-03,\n",
       "          3.73160280e-02, -4.43099998e-02, -3.21447141e-02,\n",
       "          4.30113561e-02, -4.72754240e-02, -1.62079446e-02,\n",
       "          4.20952551e-02],\n",
       "        [ 2.57383622e-02, -3.58112454e-02,  3.03463601e-02,\n",
       "         -1.38213262e-02, -1.32085197e-02,  2.02537663e-02,\n",
       "         -3.57654206e-02,  4.19252254e-02,  4.26189564e-02,\n",
       "          1.70805790e-02],\n",
       "        [-3.40136513e-02, -1.22539885e-02,  2.71570571e-02,\n",
       "          3.32203023e-02, -2.73289084e-02, -2.39676833e-02,\n",
       "         -7.76902586e-03, -5.05512953e-03, -9.53146070e-03,\n",
       "          2.72069685e-02]],\n",
       "\n",
       "       [[ 1.42061748e-02, -1.45138130e-02,  2.73118280e-02,\n",
       "          2.02215426e-02, -2.05212366e-02,  5.78414649e-04,\n",
       "         -3.72975357e-02, -4.54578996e-02,  2.74007805e-02,\n",
       "         -2.33614575e-02],\n",
       "        [ 1.42061748e-02, -1.45138130e-02,  2.73118280e-02,\n",
       "          2.02215426e-02, -2.05212366e-02,  5.78414649e-04,\n",
       "         -3.72975357e-02, -4.54578996e-02,  2.74007805e-02,\n",
       "         -2.33614575e-02],\n",
       "        [ 1.42061748e-02, -1.45138130e-02,  2.73118280e-02,\n",
       "          2.02215426e-02, -2.05212366e-02,  5.78414649e-04,\n",
       "         -3.72975357e-02, -4.54578996e-02,  2.74007805e-02,\n",
       "         -2.33614575e-02],\n",
       "        [ 3.56041677e-02, -4.26284671e-02,  2.15400010e-04,\n",
       "          4.43355478e-02, -4.99816798e-02,  1.74607746e-02,\n",
       "          9.97433811e-03, -4.95141521e-02,  2.49087475e-02,\n",
       "          3.81123275e-04],\n",
       "        [-2.27897521e-02, -1.34165771e-02, -2.35324260e-02,\n",
       "         -9.66733694e-03, -1.86826214e-02, -2.85420660e-02,\n",
       "          2.92589329e-02, -8.81137699e-03,  2.36054920e-02,\n",
       "         -3.60399112e-02],\n",
       "        [-6.14561886e-03, -2.74115559e-02, -4.65731397e-02,\n",
       "         -2.88756378e-02,  4.25335020e-03, -7.90226460e-03,\n",
       "         -2.44691856e-02, -4.27737832e-05,  5.49948215e-03,\n",
       "         -4.97037284e-02],\n",
       "        [-4.56831716e-02,  4.85913195e-02, -6.02895021e-03,\n",
       "         -2.62883194e-02, -9.80114937e-03,  6.62957504e-03,\n",
       "          2.53459066e-03, -1.87027454e-03, -4.03455123e-02,\n",
       "          1.33988969e-02],\n",
       "        [ 1.02207288e-02, -3.17775756e-02,  1.42540820e-02,\n",
       "          7.33660534e-03, -1.14925876e-02,  3.53179090e-02,\n",
       "          6.34167343e-03, -2.49504093e-02, -3.28357965e-02,\n",
       "          6.01054356e-03]],\n",
       "\n",
       "       [[ 1.42061748e-02, -1.45138130e-02,  2.73118280e-02,\n",
       "          2.02215426e-02, -2.05212366e-02,  5.78414649e-04,\n",
       "         -3.72975357e-02, -4.54578996e-02,  2.74007805e-02,\n",
       "         -2.33614575e-02],\n",
       "        [ 1.42061748e-02, -1.45138130e-02,  2.73118280e-02,\n",
       "          2.02215426e-02, -2.05212366e-02,  5.78414649e-04,\n",
       "         -3.72975357e-02, -4.54578996e-02,  2.74007805e-02,\n",
       "         -2.33614575e-02],\n",
       "        [ 1.42061748e-02, -1.45138130e-02,  2.73118280e-02,\n",
       "          2.02215426e-02, -2.05212366e-02,  5.78414649e-04,\n",
       "         -3.72975357e-02, -4.54578996e-02,  2.74007805e-02,\n",
       "         -2.33614575e-02],\n",
       "        [ 3.56041677e-02, -4.26284671e-02,  2.15400010e-04,\n",
       "          4.43355478e-02, -4.99816798e-02,  1.74607746e-02,\n",
       "          9.97433811e-03, -4.95141521e-02,  2.49087475e-02,\n",
       "          3.81123275e-04],\n",
       "        [-2.27897521e-02, -1.34165771e-02, -2.35324260e-02,\n",
       "         -9.66733694e-03, -1.86826214e-02, -2.85420660e-02,\n",
       "          2.92589329e-02, -8.81137699e-03,  2.36054920e-02,\n",
       "         -3.60399112e-02],\n",
       "        [-6.14561886e-03, -2.74115559e-02, -4.65731397e-02,\n",
       "         -2.88756378e-02,  4.25335020e-03, -7.90226460e-03,\n",
       "         -2.44691856e-02, -4.27737832e-05,  5.49948215e-03,\n",
       "         -4.97037284e-02],\n",
       "        [-4.56831716e-02,  4.85913195e-02, -6.02895021e-03,\n",
       "         -2.62883194e-02, -9.80114937e-03,  6.62957504e-03,\n",
       "          2.53459066e-03, -1.87027454e-03, -4.03455123e-02,\n",
       "          1.33988969e-02],\n",
       "        [ 2.11645029e-02, -3.49160805e-02,  2.25090869e-02,\n",
       "          1.66700222e-02,  2.49309205e-02,  2.28998996e-02,\n",
       "         -2.73026358e-02,  1.81704499e-02,  2.76635550e-02,\n",
       "          3.92560400e-02]],\n",
       "\n",
       "       [[ 1.42061748e-02, -1.45138130e-02,  2.73118280e-02,\n",
       "          2.02215426e-02, -2.05212366e-02,  5.78414649e-04,\n",
       "         -3.72975357e-02, -4.54578996e-02,  2.74007805e-02,\n",
       "         -2.33614575e-02],\n",
       "        [ 1.42061748e-02, -1.45138130e-02,  2.73118280e-02,\n",
       "          2.02215426e-02, -2.05212366e-02,  5.78414649e-04,\n",
       "         -3.72975357e-02, -4.54578996e-02,  2.74007805e-02,\n",
       "         -2.33614575e-02],\n",
       "        [ 1.42061748e-02, -1.45138130e-02,  2.73118280e-02,\n",
       "          2.02215426e-02, -2.05212366e-02,  5.78414649e-04,\n",
       "         -3.72975357e-02, -4.54578996e-02,  2.74007805e-02,\n",
       "         -2.33614575e-02],\n",
       "        [ 2.09222473e-02, -2.53236182e-02,  2.78276466e-02,\n",
       "         -3.89492884e-02, -1.55321844e-02,  2.07958557e-02,\n",
       "          6.26852363e-03,  2.85666063e-03,  6.47076219e-03,\n",
       "         -1.09315291e-02],\n",
       "        [ 3.13760974e-02,  3.56265940e-02,  1.09498575e-03,\n",
       "          1.32749192e-02,  4.31714095e-02, -2.77641546e-02,\n",
       "         -7.19226897e-04, -2.84469016e-02,  7.53495842e-03,\n",
       "          2.35064961e-02],\n",
       "        [-2.40810048e-02, -6.02136925e-03, -3.19131501e-02,\n",
       "         -7.22978264e-03,  1.67890824e-02, -2.36023553e-02,\n",
       "         -4.07888293e-02, -2.45222580e-02, -3.26254740e-02,\n",
       "          1.81267522e-02],\n",
       "        [ 2.57383622e-02, -3.58112454e-02,  3.03463601e-02,\n",
       "         -1.38213262e-02, -1.32085197e-02,  2.02537663e-02,\n",
       "         -3.57654206e-02,  4.19252254e-02,  4.26189564e-02,\n",
       "          1.70805790e-02],\n",
       "        [ 1.58975162e-02, -1.86428316e-02,  3.61046679e-02,\n",
       "         -4.88944165e-02,  1.94769613e-02,  3.84967960e-02,\n",
       "          3.85464095e-02,  5.36423922e-03, -1.68238990e-02,\n",
       "         -1.48971565e-02]],\n",
       "\n",
       "       [[ 1.42061748e-02, -1.45138130e-02,  2.73118280e-02,\n",
       "          2.02215426e-02, -2.05212366e-02,  5.78414649e-04,\n",
       "         -3.72975357e-02, -4.54578996e-02,  2.74007805e-02,\n",
       "         -2.33614575e-02],\n",
       "        [ 1.42061748e-02, -1.45138130e-02,  2.73118280e-02,\n",
       "          2.02215426e-02, -2.05212366e-02,  5.78414649e-04,\n",
       "         -3.72975357e-02, -4.54578996e-02,  2.74007805e-02,\n",
       "         -2.33614575e-02],\n",
       "        [ 1.42061748e-02, -1.45138130e-02,  2.73118280e-02,\n",
       "          2.02215426e-02, -2.05212366e-02,  5.78414649e-04,\n",
       "         -3.72975357e-02, -4.54578996e-02,  2.74007805e-02,\n",
       "         -2.33614575e-02],\n",
       "        [ 1.42061748e-02, -1.45138130e-02,  2.73118280e-02,\n",
       "          2.02215426e-02, -2.05212366e-02,  5.78414649e-04,\n",
       "         -3.72975357e-02, -4.54578996e-02,  2.74007805e-02,\n",
       "         -2.33614575e-02],\n",
       "        [ 7.66495615e-03, -3.49282399e-02,  1.28661282e-02,\n",
       "          3.16807665e-02, -7.22249597e-03,  2.54318006e-02,\n",
       "          9.55814123e-03, -2.68787146e-02, -3.23149450e-02,\n",
       "         -2.17530858e-02],\n",
       "        [ 4.88019474e-02,  2.78392546e-02,  2.85575502e-02,\n",
       "         -3.63225713e-02, -1.21406317e-02,  8.78027827e-03,\n",
       "         -2.46957298e-02,  3.27107199e-02, -4.63698283e-02,\n",
       "          4.29483764e-02],\n",
       "        [ 9.02931765e-03,  3.01782526e-02, -6.87798113e-03,\n",
       "         -3.71999741e-02, -2.84333229e-02,  4.47876714e-02,\n",
       "         -4.08972427e-03,  1.11196525e-02,  3.09411995e-02,\n",
       "          3.10614742e-02],\n",
       "        [-4.56831716e-02,  4.85913195e-02, -6.02895021e-03,\n",
       "         -2.62883194e-02, -9.80114937e-03,  6.62957504e-03,\n",
       "          2.53459066e-03, -1.87027454e-03, -4.03455123e-02,\n",
       "          1.33988969e-02]]], dtype=float32)"
      ]
     },
     "execution_count": 33,
     "metadata": {},
     "output_type": "execute_result"
    }
   ],
   "source": [
    "model.predict(embedded_docs)"
   ]
  },
  {
   "cell_type": "code",
   "execution_count": 34,
   "metadata": {},
   "outputs": [
    {
     "data": {
      "text/plain": [
       "array([   0,    0,    0,    0, 1779,  384, 9989, 4307], dtype=int32)"
      ]
     },
     "execution_count": 34,
     "metadata": {},
     "output_type": "execute_result"
    }
   ],
   "source": [
    "embedded_docs[0]"
   ]
  },
  {
   "cell_type": "code",
   "execution_count": 35,
   "metadata": {},
   "outputs": [
    {
     "ename": "ValueError",
     "evalue": "Exception encountered when calling Sequential.call().\n\n\u001b[1mCannot take the length of shape with unknown rank.\u001b[0m\n\nArguments received by Sequential.call():\n  • inputs=tf.Tensor(shape=<unknown>, dtype=int32)\n  • training=False\n  • mask=None",
     "output_type": "error",
     "traceback": [
      "\u001b[1;31m---------------------------------------------------------------------------\u001b[0m",
      "\u001b[1;31mValueError\u001b[0m                                Traceback (most recent call last)",
      "Cell \u001b[1;32mIn[35], line 1\u001b[0m\n\u001b[1;32m----> 1\u001b[0m \u001b[43mmodel\u001b[49m\u001b[38;5;241;43m.\u001b[39;49m\u001b[43mpredict\u001b[49m\u001b[43m(\u001b[49m\u001b[43membedded_docs\u001b[49m\u001b[43m[\u001b[49m\u001b[38;5;241;43m0\u001b[39;49m\u001b[43m]\u001b[49m\u001b[43m)\u001b[49m\n",
      "File \u001b[1;32me:\\MLPracops\\projects\\Churn\\venv\\Lib\\site-packages\\keras\\src\\utils\\traceback_utils.py:122\u001b[0m, in \u001b[0;36mfilter_traceback.<locals>.error_handler\u001b[1;34m(*args, **kwargs)\u001b[0m\n\u001b[0;32m    119\u001b[0m     filtered_tb \u001b[38;5;241m=\u001b[39m _process_traceback_frames(e\u001b[38;5;241m.\u001b[39m__traceback__)\n\u001b[0;32m    120\u001b[0m     \u001b[38;5;66;03m# To get the full stack trace, call:\u001b[39;00m\n\u001b[0;32m    121\u001b[0m     \u001b[38;5;66;03m# `keras.config.disable_traceback_filtering()`\u001b[39;00m\n\u001b[1;32m--> 122\u001b[0m     \u001b[38;5;28;01mraise\u001b[39;00m e\u001b[38;5;241m.\u001b[39mwith_traceback(filtered_tb) \u001b[38;5;28;01mfrom\u001b[39;00m\u001b[38;5;250m \u001b[39m\u001b[38;5;28;01mNone\u001b[39;00m\n\u001b[0;32m    123\u001b[0m \u001b[38;5;28;01mfinally\u001b[39;00m:\n\u001b[0;32m    124\u001b[0m     \u001b[38;5;28;01mdel\u001b[39;00m filtered_tb\n",
      "File \u001b[1;32me:\\MLPracops\\projects\\Churn\\venv\\Lib\\site-packages\\keras\\src\\utils\\traceback_utils.py:122\u001b[0m, in \u001b[0;36mfilter_traceback.<locals>.error_handler\u001b[1;34m(*args, **kwargs)\u001b[0m\n\u001b[0;32m    119\u001b[0m     filtered_tb \u001b[38;5;241m=\u001b[39m _process_traceback_frames(e\u001b[38;5;241m.\u001b[39m__traceback__)\n\u001b[0;32m    120\u001b[0m     \u001b[38;5;66;03m# To get the full stack trace, call:\u001b[39;00m\n\u001b[0;32m    121\u001b[0m     \u001b[38;5;66;03m# `keras.config.disable_traceback_filtering()`\u001b[39;00m\n\u001b[1;32m--> 122\u001b[0m     \u001b[38;5;28;01mraise\u001b[39;00m e\u001b[38;5;241m.\u001b[39mwith_traceback(filtered_tb) \u001b[38;5;28;01mfrom\u001b[39;00m\u001b[38;5;250m \u001b[39m\u001b[38;5;28;01mNone\u001b[39;00m\n\u001b[0;32m    123\u001b[0m \u001b[38;5;28;01mfinally\u001b[39;00m:\n\u001b[0;32m    124\u001b[0m     \u001b[38;5;28;01mdel\u001b[39;00m filtered_tb\n",
      "\u001b[1;31mValueError\u001b[0m: Exception encountered when calling Sequential.call().\n\n\u001b[1mCannot take the length of shape with unknown rank.\u001b[0m\n\nArguments received by Sequential.call():\n  • inputs=tf.Tensor(shape=<unknown>, dtype=int32)\n  • training=False\n  • mask=None"
     ]
    }
   ],
   "source": [
    "model.predict(embedded_docs[0])"
   ]
  },
  {
   "cell_type": "code",
   "execution_count": null,
   "metadata": {},
   "outputs": [],
   "source": []
  }
 ],
 "metadata": {
  "kernelspec": {
   "display_name": "Python 3",
   "language": "python",
   "name": "python3"
  },
  "language_info": {
   "codemirror_mode": {
    "name": "ipython",
    "version": 3
   },
   "file_extension": ".py",
   "mimetype": "text/x-python",
   "name": "python",
   "nbconvert_exporter": "python",
   "pygments_lexer": "ipython3",
   "version": "3.12.0"
  }
 },
 "nbformat": 4,
 "nbformat_minor": 2
}
